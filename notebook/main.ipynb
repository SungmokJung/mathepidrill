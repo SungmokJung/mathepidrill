{
 "cells": [
  {
   "cell_type": "markdown",
   "metadata": {},
   "source": [
    "# MathEpiDrill: quick training set to new infectious disease modellers"
   ]
  },
  {
   "cell_type": "markdown",
   "metadata": {},
   "source": [
    "## How to use"
   ]
  },
  {
   "cell_type": "markdown",
   "metadata": {},
   "source": [
    "## Installation\n",
    "### Install R\n",
    "Install R [https://www.r-project.org/](https://www.r-project.org/) and make sure that it runs properly on your computer.\n",
    "\n",
    "### Install integrated development environment (IDE)\n",
    "\n",
    "Install RStudio ([https://rstudio.com/](https://rstudio.com/)) or Jupyter ([https://jupyter.org/](https://jupyter.org/))+IRkernel and make sure that you can open this file in either of these tools (.Rmd for Rstudio and .ipynb for Jupyter).\n",
    "\n",
    "(Tip: RStudio is an IDE specifically designed for R and is recommended if you focus only on R. Jupyter can handle multiple languages by switching kernels (e.g., Python, Julia, etc.))\n",
    "\n",
    "From now on, proceed on this file (.Rmd or .ipynb) downloaded and opened by RStudio/Jupyter so that you can run codes.\n",
    "\n",
    "### Load {MathEpiDrill} package\n",
    "Run the following R code to load {MathEpiDrill} package on the working space."
   ]
  },
  {
   "cell_type": "code",
   "execution_count": 1,
   "metadata": {},
   "outputs": [],
   "source": [
    "source(\"../src/drill.R\")"
   ]
  },
  {
   "cell_type": "markdown",
   "metadata": {},
   "source": [
    "## Basic R setups\n",
    "### Basic operators"
   ]
  },
  {
   "cell_type": "code",
   "execution_count": 2,
   "metadata": {},
   "outputs": [
    {
     "name": "stdout",
     "output_type": "stream",
     "text": [
      "[1] \"Do some calculation using basic operators in R, for example, +, -, *, /, %/%, ^, etc.\"\n"
     ]
    }
   ],
   "source": [
    "drill(1)"
   ]
  },
  {
   "cell_type": "code",
   "execution_count": 3,
   "metadata": {},
   "outputs": [
    {
     "name": "stdout",
     "output_type": "stream",
     "text": [
      "> 1 + 1\n",
      "[1] 2\n",
      "> 3 - 1\n",
      "[1] 2\n",
      "> 4 * 2\n",
      "[1] 8\n",
      "> 5/2\n",
      "[1] 2.5\n",
      "> 5%/%2\n",
      "[1] 2\n",
      "> 2^3\n",
      "[1] 8\n"
     ]
    }
   ],
   "source": [
    "drill(1, answer = TRUE)"
   ]
  },
  {
   "cell_type": "markdown",
   "metadata": {},
   "source": [
    "### Math functions"
   ]
  },
  {
   "cell_type": "code",
   "execution_count": 4,
   "metadata": {},
   "outputs": [
    {
     "name": "stdout",
     "output_type": "stream",
     "text": [
      "[1] \"Try some math functions, for example, exponential, trigonomaetric functions, and others.\"\n"
     ]
    }
   ],
   "source": [
    "drill(2)"
   ]
  },
  {
   "cell_type": "code",
   "execution_count": 5,
   "metadata": {},
   "outputs": [
    {
     "name": "stdout",
     "output_type": "stream",
     "text": [
      "> exp(1)\n",
      "[1] 2.718282\n",
      "> log(1e-10)\n",
      "[1] -23.02585\n",
      "> sin(pi/4)\n",
      "[1] 0.7071068\n",
      "> sqrt(2)\n",
      "[1] 1.414214\n",
      "> gamma(1/2)\n",
      "[1] 1.772454\n"
     ]
    }
   ],
   "source": [
    "drill(2, answer = TRUE)"
   ]
  }
 ],
 "metadata": {
  "jupytext": {
   "formats": "ipynb,Rmd"
  },
  "kernelspec": {
   "display_name": "R",
   "language": "R",
   "name": "ir"
  },
  "language_info": {
   "codemirror_mode": "r",
   "file_extension": ".r",
   "mimetype": "text/x-r-source",
   "name": "R",
   "pygments_lexer": "r",
   "version": "3.6.1"
  }
 },
 "nbformat": 4,
 "nbformat_minor": 4
}
